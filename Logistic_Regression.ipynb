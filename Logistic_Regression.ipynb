{
  "nbformat": 4,
  "nbformat_minor": 0,
  "metadata": {
    "colab": {
      "provenance": [],
      "authorship_tag": "ABX9TyMfuCzQjGMKYbV5YgQQwU8y",
      "include_colab_link": true
    },
    "kernelspec": {
      "name": "python3",
      "display_name": "Python 3"
    },
    "language_info": {
      "name": "python"
    }
  },
  "cells": [
    {
      "cell_type": "markdown",
      "metadata": {
        "id": "view-in-github",
        "colab_type": "text"
      },
      "source": [
        "<a href=\"https://colab.research.google.com/github/alengeorge-26/ML-Logistic-Regression/blob/main/Logistic_Regression.ipynb\" target=\"_parent\"><img src=\"https://colab.research.google.com/assets/colab-badge.svg\" alt=\"Open In Colab\"/></a>"
      ]
    },
    {
      "cell_type": "code",
      "execution_count": 2,
      "metadata": {
        "colab": {
          "base_uri": "https://localhost:8080/"
        },
        "id": "IY1I6E8CohnF",
        "outputId": "b758e130-bc58-4746-b8e7-03e706e145dd"
      },
      "outputs": [
        {
          "output_type": "stream",
          "name": "stdout",
          "text": [
            "Input to exp: [1 2 3]\n",
            "Output of exp: [ 2.71828183  7.3890561  20.08553692]\n",
            "Input to exp: 1\n",
            "Output of exp: 2.718281828459045\n"
          ]
        }
      ],
      "source": [
        "import numpy as np\n",
        "# Input is an array. \n",
        "input_array = np.array([1,2,3])\n",
        "exp_array = np.exp(input_array)\n",
        "\n",
        "print(\"Input to exp:\", input_array)\n",
        "print(\"Output of exp:\", exp_array)\n",
        "\n",
        "# Input is a single number\n",
        "input_val = 1  \n",
        "exp_val = np.exp(input_val)\n",
        "\n",
        "print(\"Input to exp:\", input_val)\n",
        "print(\"Output of exp:\", exp_val)"
      ]
    },
    {
      "cell_type": "code",
      "source": [
        "def sigmoid(z):\n",
        "\n",
        "    g = 1/(1+np.exp(-z))\n",
        "   \n",
        "    return g"
      ],
      "metadata": {
        "id": "MF0rPTrRo-R6"
      },
      "execution_count": 3,
      "outputs": []
    },
    {
      "cell_type": "code",
      "source": [
        "# Generate an array of evenly spaced values between -10 and 10\n",
        "z_tmp = np.arange(-10,11)\n",
        "\n",
        "# Use the function implemented above to get the sigmoid values\n",
        "y = sigmoid(z_tmp)\n",
        "\n",
        "# Code for pretty printing the two arrays next to each other\n",
        "np.set_printoptions(precision=3) \n",
        "print(\"Input (z), Output (sigmoid(z))\")\n",
        "print(np.c_[z_tmp, y])"
      ],
      "metadata": {
        "colab": {
          "base_uri": "https://localhost:8080/"
        },
        "id": "J8Ro80frpDTN",
        "outputId": "f764c0a4-2693-4725-a264-a7ad52fb6257"
      },
      "execution_count": 6,
      "outputs": [
        {
          "output_type": "stream",
          "name": "stdout",
          "text": [
            "Input (z), Output (sigmoid(z))\n",
            "[[-1.000e+01  4.540e-05]\n",
            " [-9.000e+00  1.234e-04]\n",
            " [-8.000e+00  3.354e-04]\n",
            " [-7.000e+00  9.111e-04]\n",
            " [-6.000e+00  2.473e-03]\n",
            " [-5.000e+00  6.693e-03]\n",
            " [-4.000e+00  1.799e-02]\n",
            " [-3.000e+00  4.743e-02]\n",
            " [-2.000e+00  1.192e-01]\n",
            " [-1.000e+00  2.689e-01]\n",
            " [ 0.000e+00  5.000e-01]\n",
            " [ 1.000e+00  7.311e-01]\n",
            " [ 2.000e+00  8.808e-01]\n",
            " [ 3.000e+00  9.526e-01]\n",
            " [ 4.000e+00  9.820e-01]\n",
            " [ 5.000e+00  9.933e-01]\n",
            " [ 6.000e+00  9.975e-01]\n",
            " [ 7.000e+00  9.991e-01]\n",
            " [ 8.000e+00  9.997e-01]\n",
            " [ 9.000e+00  9.999e-01]\n",
            " [ 1.000e+01  1.000e+00]]\n"
          ]
        }
      ]
    }
  ]
}